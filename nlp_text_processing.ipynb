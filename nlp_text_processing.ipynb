{
 "cells": [
  {
   "cell_type": "markdown",
   "id": "7383b49e-3b13-4931-ba23-1a4d8e1d9afc",
   "metadata": {},
   "source": [
    "Project: Simple text preprocessing pipeline in Python\n",
    "\n",
    "This script demonstrates the basic steps of text preprocessing for English texts:\n",
    "- converting text to lowercase,\n",
    "- removing punctuation,\n",
    "- tokenization,\n",
    "- removing stopwords (with \"no\" and \"not\" kept as exceptions),\n",
    "- stemming.\n",
    "\n",
    "The pipeline prepares the text for further analysis, such as classification or sentiment analysis."
   ]
  },
  {
   "cell_type": "code",
   "execution_count": 4,
   "id": "124ddf01-667c-4da1-aa88-979ca7c40888",
   "metadata": {},
   "outputs": [],
   "source": [
    "import re\n",
    "import nltk\n",
    "from nltk.corpus import stopwords\n",
    "from nltk.tokenize import word_tokenize\n",
    "from nltk.stem import PorterStemmer"
   ]
  },
  {
   "cell_type": "code",
   "execution_count": 5,
   "id": "288a93e9-eaf0-40ed-9936-d07edaa6117a",
   "metadata": {},
   "outputs": [],
   "source": [
    "# Text input\n",
    "text = \"I can't believe this hotel! The staff was RUDE, and the room was dirty. Will never stay here again. Worst experience ever. Also, there was no WiFi, no hot water, and the TV was broken. On the bright side, the breakfast was okay.\""
   ]
  },
  {
   "cell_type": "code",
   "execution_count": 6,
   "id": "19058cdd-f369-47aa-8fe3-16662c8b0b70",
   "metadata": {},
   "outputs": [
    {
     "name": "stdout",
     "output_type": "stream",
     "text": [
      "i can't believe this hotel! the staff was rude, and the room was dirty. will never stay here again. worst experience ever. also, there was no wifi, no hot water, and the tv was broken. on the bright side, the breakfast was okay.\n"
     ]
    }
   ],
   "source": [
    "# Lowercase\n",
    "lower_text = text.lower()\n",
    "print(lower_text)"
   ]
  },
  {
   "cell_type": "code",
   "execution_count": 7,
   "id": "27cbe963-df96-44e0-8e24-4c04dc109f26",
   "metadata": {},
   "outputs": [
    {
     "name": "stdout",
     "output_type": "stream",
     "text": [
      "i cant believe this hotel the staff was rude and the room was dirty will never stay here again worst experience ever also there was no wifi no hot water and the tv was broken on the bright side the breakfast was okay\n"
     ]
    }
   ],
   "source": [
    "# Remove punctuation\n",
    "no_punct_text = []\n",
    "no_punct_text = re.sub(r\"[^\\w\\s]\", \"\", lower_text)\n",
    "print(no_punct_text)"
   ]
  },
  {
   "cell_type": "code",
   "execution_count": 8,
   "id": "86d85c72-3093-4fa4-ba76-658b2a3647ee",
   "metadata": {},
   "outputs": [
    {
     "name": "stdout",
     "output_type": "stream",
     "text": [
      "['i', 'cant', 'believe', 'this', 'hotel', 'the', 'staff', 'was', 'rude', 'and', 'the', 'room', 'was', 'dirty', 'will', 'never', 'stay', 'here', 'again', 'worst', 'experience', 'ever', 'also', 'there', 'was', 'no', 'wifi', 'no', 'hot', 'water', 'and', 'the', 'tv', 'was', 'broken', 'on', 'the', 'bright', 'side', 'the', 'breakfast', 'was', 'okay']\n"
     ]
    }
   ],
   "source": [
    "# Tokenization\n",
    "tokens = word_tokenize(no_punct_text)\n",
    "print(tokens)"
   ]
  },
  {
   "cell_type": "code",
   "execution_count": 11,
   "id": "6edd4c51-e61b-4335-ada0-e86116305a95",
   "metadata": {},
   "outputs": [
    {
     "name": "stdout",
     "output_type": "stream",
     "text": [
      "cant believe hotel staff rude room dirty never stay worst experience ever also no wifi no hot water tv broken bright side breakfast okay\n"
     ]
    }
   ],
   "source": [
    "# Stopwords\n",
    "\n",
    "en_stopwords = stopwords.words('english')\n",
    "en_stopwords.remove(\"no\")\n",
    "en_stopwords.remove(\"not\")\n",
    "\n",
    "text_stopwords = ' '.join([word for word in tokens if word not in (en_stopwords)])\n",
    "print(text_stopwords)"
   ]
  },
  {
   "cell_type": "code",
   "execution_count": 15,
   "id": "d7298b9b-1329-4585-accd-b4f280534449",
   "metadata": {},
   "outputs": [
    {
     "name": "stdout",
     "output_type": "stream",
     "text": [
      "['cant', 'believ', 'hotel', 'staff', 'rude', 'room', 'dirti', 'never', 'stay', 'worst', 'experi', 'ever', 'also', 'no', 'wifi', 'no', 'hot', 'water', 'tv', 'broken', 'bright', 'side', 'breakfast', 'okay']\n"
     ]
    }
   ],
   "source": [
    "# Stemming\n",
    "\n",
    "ps = PorterStemmer()\n",
    "text_stemmed = [ps.stem(word) for word in text_stopwords.split()]\n",
    "print(text_stemmed)"
   ]
  },
  {
   "cell_type": "code",
   "execution_count": null,
   "id": "95b230d9-b755-4124-8912-9e746bcf3565",
   "metadata": {},
   "outputs": [],
   "source": []
  }
 ],
 "metadata": {
  "kernelspec": {
   "display_name": "Python 3 (ipykernel)",
   "language": "python",
   "name": "python3"
  },
  "language_info": {
   "codemirror_mode": {
    "name": "ipython",
    "version": 3
   },
   "file_extension": ".py",
   "mimetype": "text/x-python",
   "name": "python",
   "nbconvert_exporter": "python",
   "pygments_lexer": "ipython3",
   "version": "3.13.5"
  }
 },
 "nbformat": 4,
 "nbformat_minor": 5
}
