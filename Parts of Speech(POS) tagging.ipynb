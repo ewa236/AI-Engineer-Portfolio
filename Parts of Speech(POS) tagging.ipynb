{
 "cells": [
  {
   "cell_type": "markdown",
   "id": "e660e9db-9529-41aa-bfe4-3ac03ba25090",
   "metadata": {},
   "source": [
    "# Part-of-Speech Tagging and Analysis with spaCy and pandas\n",
    "\n",
    "This script demonstrates how to use spaCy for part-of-speech (POS) tagging on an excerpt from \"Emma\" by Jane Austen.\n",
    "It extracts tokens and their POS tags, analyzes the frequency of each tag, and identifies the most common nouns using pandas for data manipulation.\n",
    "\n",
    "**Key steps:**\n",
    "- Load English language model with spaCy\n",
    "- Process a literary text sample and extract tokens with POS tags\n",
    "- Analyze and display the most frequent tokens and POS categories\n",
    "- Identify and list the top 10 most common nouns\n",
    "\n",
    "This example shows practical skills in text analysis, combining NLP and data processing tools."
   ]
  },
  {
   "cell_type": "code",
   "execution_count": 1,
   "id": "94195cf9-ecf4-4b04-b1f7-e64d835c8253",
   "metadata": {},
   "outputs": [],
   "source": [
    "import spacy\n",
    "import pandas as pd"
   ]
  },
  {
   "cell_type": "code",
   "execution_count": 2,
   "id": "c8bf3787-51ac-49b1-ab3d-2dd87dada9d3",
   "metadata": {},
   "outputs": [],
   "source": [
    "nlp = spacy.load(\"en_core_web_sm\")"
   ]
  },
  {
   "cell_type": "code",
   "execution_count": 21,
   "id": "ca415701-386a-4902-86dd-9158a6e7d38a",
   "metadata": {},
   "outputs": [],
   "source": [
    "emma_ja = \"Emma Woodhouse handsome clever and rich with a comfortable home and happy disposition seemed to unite some of the best blessings of existence and had lived nearly twenty one years in the world with very little to distress or vex her She was the youngest of the two daughters of a most affectionate indulgent father and had in consequence of her sisters marriage been mistress of his house from a very early period Her mother had died too long ago for her to have more than an indistinct remembrance of her caresses and her place had been supplied by an excellent woman as governess who had fallen little short of a mother in affection Sixteen years had Miss Taylor been in Mr Woodhouses family less as a governess than a friend very fond of both daughters but particularly of Emma Between them it was more the intimacy of sisters Even before Miss Taylor had ceased to hold the nominal office of governess the mildness of her temper had hardly allowed her to impose any restraint and the shadow of authority being now long passed away they had been living together as friend and friend very mutually attached and Emma doing just what she liked highly esteeming Miss Taylors judgment but directed chiefly by her own\""
   ]
  },
  {
   "cell_type": "code",
   "execution_count": 22,
   "id": "01fba00a-74ff-450d-a15b-5c7d4102bc63",
   "metadata": {},
   "outputs": [
    {
     "name": "stdout",
     "output_type": "stream",
     "text": [
      "Emma Woodhouse handsome clever and rich with a comfortable home and happy disposition seemed to unite some of the best blessings of existence and had lived nearly twenty one years in the world with very little to distress or vex her She was the youngest of the two daughters of a most affectionate indulgent father and had in consequence of her sisters marriage been mistress of his house from a very early period Her mother had died too long ago for her to have more than an indistinct remembrance of her caresses and her place had been supplied by an excellent woman as governess who had fallen little short of a mother in affection Sixteen years had Miss Taylor been in Mr Woodhouses family less as a governess than a friend very fond of both daughters but particularly of Emma Between them it was more the intimacy of sisters Even before Miss Taylor had ceased to hold the nominal office of governess the mildness of her temper had hardly allowed her to impose any restraint and the shadow of authority being now long passed away they had been living together as friend and friend very mutually attached and Emma doing just what she liked highly esteeming Miss Taylors judgment but directed chiefly by her own\n"
     ]
    }
   ],
   "source": [
    "print(emma_ja)"
   ]
  },
  {
   "cell_type": "code",
   "execution_count": 23,
   "id": "7bf13293-b3f7-4752-aa80-234e67fa9ba5",
   "metadata": {},
   "outputs": [],
   "source": [
    "spacy_doc = nlp(emma_ja)"
   ]
  },
  {
   "cell_type": "code",
   "execution_count": 24,
   "id": "b9767f87-7167-4b60-82a1-af223000cef4",
   "metadata": {},
   "outputs": [],
   "source": [
    "pos_df = pd.DataFrame(columns=['token','pos_tag'])"
   ]
  },
  {
   "cell_type": "code",
   "execution_count": 25,
   "id": "0dffe954-7d93-4986-ac96-1efb84b6be4a",
   "metadata": {},
   "outputs": [],
   "source": [
    "for token in spacy_doc:\n",
    "    pos_df = pd.concat([pos_df,\n",
    "                        pd.DataFrame.from_records([{'token': token.text, 'pos_tag': token.pos_}])], ignore_index=True)"
   ]
  },
  {
   "cell_type": "code",
   "execution_count": 26,
   "id": "1f43727b-6128-4cf5-a9a9-e90824d204a9",
   "metadata": {},
   "outputs": [
    {
     "data": {
      "text/html": [
       "<div>\n",
       "<style scoped>\n",
       "    .dataframe tbody tr th:only-of-type {\n",
       "        vertical-align: middle;\n",
       "    }\n",
       "\n",
       "    .dataframe tbody tr th {\n",
       "        vertical-align: top;\n",
       "    }\n",
       "\n",
       "    .dataframe thead th {\n",
       "        text-align: right;\n",
       "    }\n",
       "</style>\n",
       "<table border=\"1\" class=\"dataframe\">\n",
       "  <thead>\n",
       "    <tr style=\"text-align: right;\">\n",
       "      <th></th>\n",
       "      <th>token</th>\n",
       "      <th>pos_tag</th>\n",
       "    </tr>\n",
       "  </thead>\n",
       "  <tbody>\n",
       "    <tr>\n",
       "      <th>0</th>\n",
       "      <td>Emma</td>\n",
       "      <td>PROPN</td>\n",
       "    </tr>\n",
       "    <tr>\n",
       "      <th>1</th>\n",
       "      <td>Woodhouse</td>\n",
       "      <td>PROPN</td>\n",
       "    </tr>\n",
       "    <tr>\n",
       "      <th>2</th>\n",
       "      <td>handsome</td>\n",
       "      <td>ADJ</td>\n",
       "    </tr>\n",
       "    <tr>\n",
       "      <th>3</th>\n",
       "      <td>clever</td>\n",
       "      <td>ADJ</td>\n",
       "    </tr>\n",
       "    <tr>\n",
       "      <th>4</th>\n",
       "      <td>and</td>\n",
       "      <td>CCONJ</td>\n",
       "    </tr>\n",
       "    <tr>\n",
       "      <th>5</th>\n",
       "      <td>rich</td>\n",
       "      <td>ADJ</td>\n",
       "    </tr>\n",
       "    <tr>\n",
       "      <th>6</th>\n",
       "      <td>with</td>\n",
       "      <td>ADP</td>\n",
       "    </tr>\n",
       "    <tr>\n",
       "      <th>7</th>\n",
       "      <td>a</td>\n",
       "      <td>DET</td>\n",
       "    </tr>\n",
       "    <tr>\n",
       "      <th>8</th>\n",
       "      <td>comfortable</td>\n",
       "      <td>ADJ</td>\n",
       "    </tr>\n",
       "    <tr>\n",
       "      <th>9</th>\n",
       "      <td>home</td>\n",
       "      <td>NOUN</td>\n",
       "    </tr>\n",
       "    <tr>\n",
       "      <th>10</th>\n",
       "      <td>and</td>\n",
       "      <td>CCONJ</td>\n",
       "    </tr>\n",
       "    <tr>\n",
       "      <th>11</th>\n",
       "      <td>happy</td>\n",
       "      <td>ADJ</td>\n",
       "    </tr>\n",
       "    <tr>\n",
       "      <th>12</th>\n",
       "      <td>disposition</td>\n",
       "      <td>NOUN</td>\n",
       "    </tr>\n",
       "    <tr>\n",
       "      <th>13</th>\n",
       "      <td>seemed</td>\n",
       "      <td>VERB</td>\n",
       "    </tr>\n",
       "    <tr>\n",
       "      <th>14</th>\n",
       "      <td>to</td>\n",
       "      <td>PART</td>\n",
       "    </tr>\n",
       "  </tbody>\n",
       "</table>\n",
       "</div>"
      ],
      "text/plain": [
       "          token pos_tag\n",
       "0          Emma   PROPN\n",
       "1     Woodhouse   PROPN\n",
       "2      handsome     ADJ\n",
       "3        clever     ADJ\n",
       "4           and   CCONJ\n",
       "5          rich     ADJ\n",
       "6          with     ADP\n",
       "7             a     DET\n",
       "8   comfortable     ADJ\n",
       "9          home    NOUN\n",
       "10          and   CCONJ\n",
       "11        happy     ADJ\n",
       "12  disposition    NOUN\n",
       "13       seemed    VERB\n",
       "14           to    PART"
      ]
     },
     "execution_count": 26,
     "metadata": {},
     "output_type": "execute_result"
    }
   ],
   "source": [
    "pos_df.head(15)"
   ]
  },
  {
   "cell_type": "code",
   "execution_count": 27,
   "id": "87b5279d-5435-4cd4-8b0b-63db52819b33",
   "metadata": {},
   "outputs": [],
   "source": [
    "pos_df_counts = pos_df.groupby(['token', 'pos_tag']).size().reset_index(name='counts').sort_values(by='counts',ascending=False)"
   ]
  },
  {
   "cell_type": "code",
   "execution_count": 29,
   "id": "f9e6f363-dc85-4696-ad74-e71a1cadb020",
   "metadata": {},
   "outputs": [
    {
     "data": {
      "text/html": [
       "<div>\n",
       "<style scoped>\n",
       "    .dataframe tbody tr th:only-of-type {\n",
       "        vertical-align: middle;\n",
       "    }\n",
       "\n",
       "    .dataframe tbody tr th {\n",
       "        vertical-align: top;\n",
       "    }\n",
       "\n",
       "    .dataframe thead th {\n",
       "        text-align: right;\n",
       "    }\n",
       "</style>\n",
       "<table border=\"1\" class=\"dataframe\">\n",
       "  <thead>\n",
       "    <tr style=\"text-align: right;\">\n",
       "      <th></th>\n",
       "      <th>token</th>\n",
       "      <th>pos_tag</th>\n",
       "      <th>counts</th>\n",
       "    </tr>\n",
       "  </thead>\n",
       "  <tbody>\n",
       "    <tr>\n",
       "      <th>93</th>\n",
       "      <td>of</td>\n",
       "      <td>ADP</td>\n",
       "      <td>14</td>\n",
       "    </tr>\n",
       "    <tr>\n",
       "      <th>62</th>\n",
       "      <td>her</td>\n",
       "      <td>PRON</td>\n",
       "      <td>8</td>\n",
       "    </tr>\n",
       "    <tr>\n",
       "      <th>56</th>\n",
       "      <td>had</td>\n",
       "      <td>AUX</td>\n",
       "      <td>8</td>\n",
       "    </tr>\n",
       "    <tr>\n",
       "      <th>18</th>\n",
       "      <td>and</td>\n",
       "      <td>CCONJ</td>\n",
       "      <td>8</td>\n",
       "    </tr>\n",
       "    <tr>\n",
       "      <th>114</th>\n",
       "      <td>the</td>\n",
       "      <td>DET</td>\n",
       "      <td>8</td>\n",
       "    </tr>\n",
       "    <tr>\n",
       "      <th>12</th>\n",
       "      <td>a</td>\n",
       "      <td>DET</td>\n",
       "      <td>6</td>\n",
       "    </tr>\n",
       "    <tr>\n",
       "      <th>117</th>\n",
       "      <td>to</td>\n",
       "      <td>PART</td>\n",
       "      <td>5</td>\n",
       "    </tr>\n",
       "    <tr>\n",
       "      <th>69</th>\n",
       "      <td>in</td>\n",
       "      <td>ADP</td>\n",
       "      <td>4</td>\n",
       "    </tr>\n",
       "    <tr>\n",
       "      <th>24</th>\n",
       "      <td>been</td>\n",
       "      <td>AUX</td>\n",
       "      <td>4</td>\n",
       "    </tr>\n",
       "    <tr>\n",
       "      <th>123</th>\n",
       "      <td>very</td>\n",
       "      <td>ADV</td>\n",
       "      <td>4</td>\n",
       "    </tr>\n",
       "  </tbody>\n",
       "</table>\n",
       "</div>"
      ],
      "text/plain": [
       "    token pos_tag  counts\n",
       "93     of     ADP      14\n",
       "62    her    PRON       8\n",
       "56    had     AUX       8\n",
       "18    and   CCONJ       8\n",
       "114   the     DET       8\n",
       "12      a     DET       6\n",
       "117    to    PART       5\n",
       "69     in     ADP       4\n",
       "24   been     AUX       4\n",
       "123  very     ADV       4"
      ]
     },
     "execution_count": 29,
     "metadata": {},
     "output_type": "execute_result"
    }
   ],
   "source": [
    "pos_df_counts.head(10)"
   ]
  },
  {
   "cell_type": "code",
   "execution_count": 30,
   "id": "367eff7a-bbdd-4bff-a24b-608df4336ecb",
   "metadata": {},
   "outputs": [],
   "source": [
    "pos_df_poscounts = pos_df_counts.groupby(['pos_tag'])['token'].count().sort_values(ascending=False)"
   ]
  },
  {
   "cell_type": "code",
   "execution_count": 31,
   "id": "ac14e653-dd6c-4adc-b764-c59d1b18a5a0",
   "metadata": {},
   "outputs": [
    {
     "data": {
      "text/plain": [
       "pos_tag\n",
       "NOUN     33\n",
       "VERB     19\n",
       "ADJ      18\n",
       "ADV      18\n",
       "PRON     11\n",
       "ADP       8\n",
       "PROPN     7\n",
       "DET       5\n",
       "AUX       4\n",
       "NUM       4\n",
       "Name: token, dtype: int64"
      ]
     },
     "execution_count": 31,
     "metadata": {},
     "output_type": "execute_result"
    }
   ],
   "source": [
    "pos_df_poscounts.head(10)"
   ]
  },
  {
   "cell_type": "code",
   "execution_count": 32,
   "id": "8a790faf-da64-40f2-987d-dae7bf4c2e8f",
   "metadata": {},
   "outputs": [],
   "source": [
    "nouns = pos_df_counts[pos_df_counts.pos_tag == 'NOUN'][:10]"
   ]
  },
  {
   "cell_type": "code",
   "execution_count": 33,
   "id": "53bc0fcf-7d13-46dd-b1eb-c2fd4f036d92",
   "metadata": {},
   "outputs": [
    {
     "data": {
      "text/html": [
       "<div>\n",
       "<style scoped>\n",
       "    .dataframe tbody tr th:only-of-type {\n",
       "        vertical-align: middle;\n",
       "    }\n",
       "\n",
       "    .dataframe tbody tr th {\n",
       "        vertical-align: top;\n",
       "    }\n",
       "\n",
       "    .dataframe thead th {\n",
       "        text-align: right;\n",
       "    }\n",
       "</style>\n",
       "<table border=\"1\" class=\"dataframe\">\n",
       "  <thead>\n",
       "    <tr style=\"text-align: right;\">\n",
       "      <th></th>\n",
       "      <th>token</th>\n",
       "      <th>pos_tag</th>\n",
       "      <th>counts</th>\n",
       "    </tr>\n",
       "  </thead>\n",
       "  <tbody>\n",
       "    <tr>\n",
       "      <th>55</th>\n",
       "      <td>governess</td>\n",
       "      <td>NOUN</td>\n",
       "      <td>3</td>\n",
       "    </tr>\n",
       "    <tr>\n",
       "      <th>53</th>\n",
       "      <td>friend</td>\n",
       "      <td>NOUN</td>\n",
       "      <td>3</td>\n",
       "    </tr>\n",
       "    <tr>\n",
       "      <th>88</th>\n",
       "      <td>mother</td>\n",
       "      <td>NOUN</td>\n",
       "      <td>2</td>\n",
       "    </tr>\n",
       "    <tr>\n",
       "      <th>38</th>\n",
       "      <td>daughters</td>\n",
       "      <td>NOUN</td>\n",
       "      <td>2</td>\n",
       "    </tr>\n",
       "    <tr>\n",
       "      <th>109</th>\n",
       "      <td>sisters</td>\n",
       "      <td>NOUN</td>\n",
       "      <td>2</td>\n",
       "    </tr>\n",
       "    <tr>\n",
       "      <th>131</th>\n",
       "      <td>years</td>\n",
       "      <td>NOUN</td>\n",
       "      <td>2</td>\n",
       "    </tr>\n",
       "    <tr>\n",
       "      <th>32</th>\n",
       "      <td>caresses</td>\n",
       "      <td>NOUN</td>\n",
       "      <td>1</td>\n",
       "    </tr>\n",
       "    <tr>\n",
       "      <th>37</th>\n",
       "      <td>consequence</td>\n",
       "      <td>NOUN</td>\n",
       "      <td>1</td>\n",
       "    </tr>\n",
       "    <tr>\n",
       "      <th>47</th>\n",
       "      <td>existence</td>\n",
       "      <td>NOUN</td>\n",
       "      <td>1</td>\n",
       "    </tr>\n",
       "    <tr>\n",
       "      <th>41</th>\n",
       "      <td>disposition</td>\n",
       "      <td>NOUN</td>\n",
       "      <td>1</td>\n",
       "    </tr>\n",
       "  </tbody>\n",
       "</table>\n",
       "</div>"
      ],
      "text/plain": [
       "           token pos_tag  counts\n",
       "55     governess    NOUN       3\n",
       "53        friend    NOUN       3\n",
       "88        mother    NOUN       2\n",
       "38     daughters    NOUN       2\n",
       "109      sisters    NOUN       2\n",
       "131        years    NOUN       2\n",
       "32      caresses    NOUN       1\n",
       "37   consequence    NOUN       1\n",
       "47     existence    NOUN       1\n",
       "41   disposition    NOUN       1"
      ]
     },
     "execution_count": 33,
     "metadata": {},
     "output_type": "execute_result"
    }
   ],
   "source": [
    "nouns"
   ]
  },
  {
   "cell_type": "code",
   "execution_count": null,
   "id": "b9969889-4df4-4e57-84be-2ee548ca0f97",
   "metadata": {},
   "outputs": [],
   "source": []
  }
 ],
 "metadata": {
  "kernelspec": {
   "display_name": "Python 3 (ipykernel)",
   "language": "python",
   "name": "python3"
  },
  "language_info": {
   "codemirror_mode": {
    "name": "ipython",
    "version": 3
   },
   "file_extension": ".py",
   "mimetype": "text/x-python",
   "name": "python",
   "nbconvert_exporter": "python",
   "pygments_lexer": "ipython3",
   "version": "3.13.5"
  }
 },
 "nbformat": 4,
 "nbformat_minor": 5
}
